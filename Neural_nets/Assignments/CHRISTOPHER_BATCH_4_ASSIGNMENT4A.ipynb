{
  "nbformat": 4,
  "nbformat_minor": 0,
  "metadata": {
    "colab": {
      "name": "CHRISTOPHER_BATCH_4_ASSIGNMENT4A.ipynb",
      "version": "0.3.2",
      "provenance": [],
      "collapsed_sections": []
    },
    "kernelspec": {
      "name": "python3",
      "display_name": "Python 3"
    },
    "accelerator": "GPU"
  },
  "cells": [
    {
      "cell_type": "markdown",
      "metadata": {
        "id": "view-in-github",
        "colab_type": "text"
      },
      "source": [
        "[View in Colaboratory](https://colab.research.google.com/github/christopher11/machine-learning/blob/master/Neural_nets/Assignments/CHRISTOPHER_BATCH_4_ASSIGNMENT4A.ipynb)"
      ]
    },
    {
      "metadata": {
        "id": "Pv12pVPSnR0r",
        "colab_type": "text"
      },
      "cell_type": "markdown",
      "source": [
        "## CHRISTOPHER - BATCH 4\n",
        "\n",
        "## Accuracy : 99.19 %"
      ]
    },
    {
      "metadata": {
        "id": "aNyZv-Ec52ot",
        "colab_type": "text"
      },
      "cell_type": "markdown",
      "source": [
        "# **Import Libraries and modules**"
      ]
    },
    {
      "metadata": {
        "id": "3m3w1Cw49Zkt",
        "colab_type": "code",
        "colab": {
          "base_uri": "https://localhost:8080/",
          "height": 17
        },
        "outputId": "26e74d70-143e-4f27-de0d-ced27895e026"
      },
      "cell_type": "code",
      "source": [
        "# https://keras.io/\n",
        "!pip install -q keras\n",
        "import keras"
      ],
      "execution_count": 30,
      "outputs": []
    },
    {
      "metadata": {
        "id": "Eso6UHE080D4",
        "colab_type": "code",
        "colab": {
          "base_uri": "https://localhost:8080/",
          "height": 17
        },
        "outputId": "87733ec8-bde3-432a-fef5-0182bee5b9b8"
      },
      "cell_type": "code",
      "source": [
        "import numpy as np\n",
        "\n",
        "from keras.models import Sequential\n",
        "from keras.layers import Dense, Dropout, Activation, Flatten, Add\n",
        "\n",
        "from keras.layers import Convolution2D, MaxPooling2D, AveragePooling2D\n",
        "from keras.layers.normalization import BatchNormalization\n",
        "\n",
        "from keras.utils import np_utils\n",
        "\n",
        "from keras.datasets import mnist"
      ],
      "execution_count": 31,
      "outputs": []
    },
    {
      "metadata": {
        "id": "zByEi95J86RD",
        "colab_type": "text"
      },
      "cell_type": "markdown",
      "source": [
        "### Load pre-shuffled MNIST data into train and test sets"
      ]
    },
    {
      "metadata": {
        "id": "7eRM0QWN83PV",
        "colab_type": "code",
        "colab": {
          "base_uri": "https://localhost:8080/",
          "height": 17
        },
        "outputId": "ecfe1103-ccfd-4c3e-bc97-8b4f2d043539"
      },
      "cell_type": "code",
      "source": [
        "(X_train, y_train), (X_test, y_test) = mnist.load_data()"
      ],
      "execution_count": 32,
      "outputs": []
    },
    {
      "metadata": {
        "id": "4a4Be72j8-ZC",
        "colab_type": "code",
        "colab": {
          "base_uri": "https://localhost:8080/",
          "height": 299
        },
        "outputId": "0e630682-5aa4-4571-e7aa-6255066df710"
      },
      "cell_type": "code",
      "source": [
        "print (X_train.shape)\n",
        "from matplotlib import pyplot as plt\n",
        "%matplotlib inline\n",
        "plt.imshow(X_train[0])"
      ],
      "execution_count": 33,
      "outputs": [
        {
          "output_type": "stream",
          "text": [
            "(60000, 28, 28)\n"
          ],
          "name": "stdout"
        },
        {
          "output_type": "execute_result",
          "data": {
            "text/plain": [
              "<matplotlib.image.AxesImage at 0x7f0172715550>"
            ]
          },
          "metadata": {
            "tags": []
          },
          "execution_count": 33
        },
        {
          "output_type": "display_data",
          "data": {
            "image/png": "[encoded data removed]",
            "text/plain": [
              "<matplotlib.figure.Figure at 0x7f01727a52e8>"
            ]
          },
          "metadata": {
            "tags": []
          }
        }
      ]
    },
    {
      "metadata": {
        "id": "dkmprriw9AnZ",
        "colab_type": "code",
        "colab": {
          "base_uri": "https://localhost:8080/",
          "height": 17
        },
        "outputId": "9792dea2-2e52-4fda-c461-cdf082860054"
      },
      "cell_type": "code",
      "source": [
        "X_train = X_train.reshape(X_train.shape[0], 28, 28,1)\n",
        "X_test = X_test.reshape(X_test.shape[0], 28, 28,1)"
      ],
      "execution_count": 34,
      "outputs": []
    },
    {
      "metadata": {
        "id": "X2m4YS4E9CRh",
        "colab_type": "code",
        "colab": {
          "base_uri": "https://localhost:8080/",
          "height": 17
        },
        "outputId": "d73cc1c4-23f8-4985-f3a0-cc28950463df"
      },
      "cell_type": "code",
      "source": [
        "X_train = X_train.astype('float32')\n",
        "X_test = X_test.astype('float32')\n",
        "X_train /= 255\n",
        "X_test /= 255"
      ],
      "execution_count": 35,
      "outputs": []
    },
    {
      "metadata": {
        "id": "0Mn0vAYD9DvB",
        "colab_type": "code",
        "colab": {
          "base_uri": "https://localhost:8080/",
          "height": 34
        },
        "outputId": "83e628ef-4092-4521-ce1c-cdd97df64e19"
      },
      "cell_type": "code",
      "source": [
        "y_train[:10]"
      ],
      "execution_count": 36,
      "outputs": [
        {
          "output_type": "execute_result",
          "data": {
            "text/plain": [
              "array([5, 0, 4, 1, 9, 2, 1, 3, 1, 4], dtype=uint8)"
            ]
          },
          "metadata": {
            "tags": []
          },
          "execution_count": 36
        }
      ]
    },
    {
      "metadata": {
        "id": "ZG8JiXR39FHC",
        "colab_type": "code",
        "colab": {
          "base_uri": "https://localhost:8080/",
          "height": 17
        },
        "outputId": "19e3dd73-7534-4e1a-85cd-9f3aacfa8758"
      },
      "cell_type": "code",
      "source": [
        "# Convert 1-dimensional class arrays to 10-dimensional class matrices\n",
        "Y_train = np_utils.to_categorical(y_train, 10)\n",
        "Y_test = np_utils.to_categorical(y_test, 10)"
      ],
      "execution_count": 37,
      "outputs": []
    },
    {
      "metadata": {
        "id": "fYlFRvKS9HMB",
        "colab_type": "code",
        "colab": {
          "base_uri": "https://localhost:8080/",
          "height": 187
        },
        "outputId": "b80eca9e-a18d-4e7a-a60b-6356f15bc108"
      },
      "cell_type": "code",
      "source": [
        "Y_train[:10]\n"
      ],
      "execution_count": 38,
      "outputs": [
        {
          "output_type": "execute_result",
          "data": {
            "text/plain": [
              "array([[0., 0., 0., 0., 0., 1., 0., 0., 0., 0.],\n",
              "       [1., 0., 0., 0., 0., 0., 0., 0., 0., 0.],\n",
              "       [0., 0., 0., 0., 1., 0., 0., 0., 0., 0.],\n",
              "       [0., 1., 0., 0., 0., 0., 0., 0., 0., 0.],\n",
              "       [0., 0., 0., 0., 0., 0., 0., 0., 0., 1.],\n",
              "       [0., 0., 1., 0., 0., 0., 0., 0., 0., 0.],\n",
              "       [0., 1., 0., 0., 0., 0., 0., 0., 0., 0.],\n",
              "       [0., 0., 0., 1., 0., 0., 0., 0., 0., 0.],\n",
              "       [0., 1., 0., 0., 0., 0., 0., 0., 0., 0.],\n",
              "       [0., 0., 0., 0., 1., 0., 0., 0., 0., 0.]], dtype=float32)"
            ]
          },
          "metadata": {
            "tags": []
          },
          "execution_count": 38
        }
      ]
    },
    {
      "metadata": {
        "id": "osKqT73Q9JJB",
        "colab_type": "code",
        "colab": {
          "base_uri": "https://localhost:8080/",
          "height": 17
        },
        "outputId": "9eefb626-49ff-4473-8ee4-a550955f9899"
      },
      "cell_type": "code",
      "source": [
        "from keras.layers import Activation\n",
        "model = Sequential()\n",
        "\n",
        " \n",
        "model.add(Convolution2D(3, (7, 7),activation='relu',padding='same',input_shape=(28,28,1)))\n",
        "model.add(BatchNormalization())\n",
        "\n",
        "model.add(Convolution2D(5, (5,5), activation='relu'))\n",
        "model.add(BatchNormalization())\n",
        "\n",
        "model.add(AveragePooling2D(pool_size=(2,2),strides=(2,2)))\n",
        "model.add(Dropout(0.25))\n",
        "\n",
        "model.add(Convolution2D(12, (3, 3), activation='relu'))\n",
        "model.add(BatchNormalization())\n",
        "\n",
        "model.add(Convolution2D(12, (3, 3), activation='relu'))\n",
        "model.add(BatchNormalization())\n",
        "\n",
        "model.add(AveragePooling2D(pool_size=(2,2),strides=(2,2)))\n",
        "model.add(Dropout(0.25))\n",
        "\n",
        "model.add(Convolution2D(10, 4))\n",
        "model.add(Flatten())\n",
        "model.add(Activation('softmax'))"
      ],
      "execution_count": 39,
      "outputs": []
    },
    {
      "metadata": {
        "id": "TzdAYg1k9K7Z",
        "colab_type": "code",
        "colab": {
          "base_uri": "https://localhost:8080/",
          "height": 646
        },
        "outputId": "b66f4b60-f99d-47fb-b8f2-cc059db4e809"
      },
      "cell_type": "code",
      "source": [
        "model.summary()"
      ],
      "execution_count": 40,
      "outputs": [
        {
          "output_type": "stream",
          "text": [
            "_________________________________________________________________\n",
            "Layer (type)                 Output Shape              Param #   \n",
            "=================================================================\n",
            "conv2d_7 (Conv2D)            (None, 28, 28, 3)         150       \n",
            "_________________________________________________________________\n",
            "batch_normalization_5 (Batch (None, 28, 28, 3)         12        \n",
            "_________________________________________________________________\n",
            "conv2d_8 (Conv2D)            (None, 24, 24, 5)         380       \n",
            "_________________________________________________________________\n",
            "batch_normalization_6 (Batch (None, 24, 24, 5)         20        \n",
            "_________________________________________________________________\n",
            "average_pooling2d_3 (Average (None, 12, 12, 5)         0         \n",
            "_________________________________________________________________\n",
            "dropout_3 (Dropout)          (None, 12, 12, 5)         0         \n",
            "_________________________________________________________________\n",
            "conv2d_9 (Conv2D)            (None, 10, 10, 12)        552       \n",
            "_________________________________________________________________\n",
            "batch_normalization_7 (Batch (None, 10, 10, 12)        48        \n",
            "_________________________________________________________________\n",
            "conv2d_10 (Conv2D)           (None, 8, 8, 12)          1308      \n",
            "_________________________________________________________________\n",
            "batch_normalization_8 (Batch (None, 8, 8, 12)          48        \n",
            "_________________________________________________________________\n",
            "average_pooling2d_4 (Average (None, 4, 4, 12)          0         \n",
            "_________________________________________________________________\n",
            "dropout_4 (Dropout)          (None, 4, 4, 12)          0         \n",
            "_________________________________________________________________\n",
            "conv2d_11 (Conv2D)           (None, 1, 1, 10)          1930      \n",
            "_________________________________________________________________\n",
            "flatten_2 (Flatten)          (None, 10)                0         \n",
            "_________________________________________________________________\n",
            "activation_2 (Activation)    (None, 10)                0         \n",
            "=================================================================\n",
            "Total params: 4,448\n",
            "Trainable params: 4,384\n",
            "Non-trainable params: 64\n",
            "_________________________________________________________________\n"
          ],
          "name": "stdout"
        }
      ]
    },
    {
      "metadata": {
        "id": "Zp6SuGrL9M3h",
        "colab_type": "code",
        "colab": {
          "base_uri": "https://localhost:8080/",
          "height": 17
        },
        "outputId": "d179f6d2-e947-4bcb-a356-699e0d64fde5"
      },
      "cell_type": "code",
      "source": [
        "model.compile(loss='categorical_crossentropy',\n",
        "             optimizer='adam',\n",
        "             metrics=['accuracy'])"
      ],
      "execution_count": 41,
      "outputs": []
    },
    {
      "metadata": {
        "id": "4xWoKhPY9Of5",
        "colab_type": "code",
        "colab": {
          "base_uri": "https://localhost:8080/",
          "height": 394
        },
        "outputId": "ea91b15a-3020-47db-8241-042659b3ca6c"
      },
      "cell_type": "code",
      "source": [
        "model.fit(X_train, Y_train, batch_size=32, epochs=10, verbose=1)"
      ],
      "execution_count": 42,
      "outputs": [
        {
          "output_type": "stream",
          "text": [
            "Epoch 1/10\n",
            "60000/60000 [==============================] - 40s 664us/step - loss: 0.2516 - acc: 0.9235\n",
            "Epoch 2/10\n",
            "18880/60000 [========>.....................] - ETA: 26s - loss: 0.1107 - acc: 0.9650"
          ],
          "name": "stdout"
        },
        {
          "output_type": "stream",
          "text": [
            "60000/60000 [==============================] - 39s 650us/step - loss: 0.1029 - acc: 0.9681\n",
            "Epoch 3/10\n",
            "32288/60000 [===============>..............] - ETA: 17s - loss: 0.0909 - acc: 0.9718"
          ],
          "name": "stdout"
        },
        {
          "output_type": "stream",
          "text": [
            "60000/60000 [==============================] - 39s 649us/step - loss: 0.0879 - acc: 0.9726\n",
            "Epoch 4/10\n",
            "38368/60000 [==================>...........] - ETA: 13s - loss: 0.0788 - acc: 0.9751"
          ],
          "name": "stdout"
        },
        {
          "output_type": "stream",
          "text": [
            "60000/60000 [==============================] - 39s 645us/step - loss: 0.0771 - acc: 0.9753\n",
            "Epoch 5/10\n",
            "41248/60000 [===================>..........] - ETA: 12s - loss: 0.0725 - acc: 0.9770"
          ],
          "name": "stdout"
        },
        {
          "output_type": "stream",
          "text": [
            "60000/60000 [==============================] - 39s 646us/step - loss: 0.0713 - acc: 0.9775\n",
            "Epoch 6/10\n",
            "42272/60000 [====================>.........] - ETA: 11s - loss: 0.0666 - acc: 0.9791"
          ],
          "name": "stdout"
        },
        {
          "output_type": "stream",
          "text": [
            "60000/60000 [==============================] - 39s 649us/step - loss: 0.0666 - acc: 0.9793\n",
            "Epoch 7/10\n",
            "41888/60000 [===================>..........] - ETA: 12s - loss: 0.0660 - acc: 0.9789"
          ],
          "name": "stdout"
        },
        {
          "output_type": "stream",
          "text": [
            "60000/60000 [==============================] - 40s 663us/step - loss: 0.0653 - acc: 0.9791\n",
            "Epoch 8/10\n",
            "42336/60000 [====================>.........] - ETA: 11s - loss: 0.0637 - acc: 0.9801"
          ],
          "name": "stdout"
        },
        {
          "output_type": "stream",
          "text": [
            "60000/60000 [==============================] - 39s 658us/step - loss: 0.0620 - acc: 0.9805\n",
            "Epoch 9/10\n",
            "42944/60000 [====================>.........] - ETA: 11s - loss: 0.0593 - acc: 0.9817"
          ],
          "name": "stdout"
        },
        {
          "output_type": "stream",
          "text": [
            "60000/60000 [==============================] - 40s 659us/step - loss: 0.0598 - acc: 0.9812\n",
            "Epoch 10/10\n",
            "42560/60000 [====================>.........] - ETA: 11s - loss: 0.0558 - acc: 0.9824"
          ],
          "name": "stdout"
        },
        {
          "output_type": "stream",
          "text": [
            "60000/60000 [==============================] - 40s 659us/step - loss: 0.0570 - acc: 0.9821\n"
          ],
          "name": "stdout"
        },
        {
          "output_type": "execute_result",
          "data": {
            "text/plain": [
              "<keras.callbacks.History at 0x7f017279a860>"
            ]
          },
          "metadata": {
            "tags": []
          },
          "execution_count": 42
        }
      ]
    },
    {
      "metadata": {
        "id": "AtsH-lLk-eLb",
        "colab_type": "code",
        "colab": {
          "base_uri": "https://localhost:8080/",
          "height": 17
        },
        "outputId": "63940525-c1a1-405e-9c0f-72b8412cc7a4"
      },
      "cell_type": "code",
      "source": [
        "score = model.evaluate(X_test, Y_test, verbose=0)"
      ],
      "execution_count": 43,
      "outputs": []
    },
    {
      "metadata": {
        "id": "mkX8JMv79q9r",
        "colab_type": "code",
        "colab": {
          "base_uri": "https://localhost:8080/",
          "height": 34
        },
        "outputId": "03a56fe2-a89b-43fc-f521-981524c49e2d"
      },
      "cell_type": "code",
      "source": [
        "print(score)"
      ],
      "execution_count": 44,
      "outputs": [
        {
          "output_type": "stream",
          "text": [
            "[0.025506752100226005, 0.9919]\n"
          ],
          "name": "stdout"
        }
      ]
    },
    {
      "metadata": {
        "id": "OCWoJkwE9suh",
        "colab_type": "code",
        "colab": {
          "base_uri": "https://localhost:8080/",
          "height": 17
        },
        "outputId": "ee8d4fa9-4bb6-460b-f7eb-0c73fd2314ea"
      },
      "cell_type": "code",
      "source": [
        "y_pred = model.predict(X_test)"
      ],
      "execution_count": 45,
      "outputs": []
    },
    {
      "metadata": {
        "id": "Ym7iCFBm9uBs",
        "colab_type": "code",
        "colab": {
          "base_uri": "https://localhost:8080/",
          "height": 493
        },
        "outputId": "030c0ccb-2e3b-4767-be35-df7db94afb32"
      },
      "cell_type": "code",
      "source": [
        "print(y_pred[:9])\n",
        "print(y_test[:9])"
      ],
      "execution_count": 46,
      "outputs": [
        {
          "output_type": "stream",
          "text": [
            "[[1.22251809e-09 3.96046218e-08 8.56147926e-06 8.72823330e-06\n",
            "  7.06314174e-12 2.90867153e-08 1.09366411e-12 9.99978185e-01\n",
            "  3.13315529e-09 4.57495753e-06]\n",
            " [1.84258658e-06 5.91252774e-06 9.99988317e-01 4.67339305e-07\n",
            "  1.08896323e-07 3.34768463e-11 7.42522388e-07 1.54307001e-09\n",
            "  2.58381965e-06 9.60923785e-09]\n",
            " [1.54083898e-06 9.99983788e-01 2.22294238e-06 3.52115904e-07\n",
            "  2.50612129e-06 4.44945378e-08 2.46943091e-06 3.70195312e-06\n",
            "  3.17780473e-06 1.75668120e-07]\n",
            " [9.98628020e-01 1.22013177e-09 3.57553326e-05 9.93391154e-07\n",
            "  1.27437092e-08 2.83315549e-05 1.28228439e-03 4.74443631e-08\n",
            "  1.93049709e-05 5.18574370e-06]\n",
            " [9.17281640e-10 7.94056099e-10 4.25682323e-10 5.75901757e-11\n",
            "  9.99917984e-01 4.59749377e-10 3.12602433e-09 1.64664353e-08\n",
            "  3.53217224e-08 8.19317356e-05]\n",
            " [1.84109081e-06 9.99943018e-01 2.34126810e-06 1.80707502e-07\n",
            "  4.84068323e-06 1.57522955e-08 9.78615958e-07 9.72027374e-06\n",
            "  3.68000874e-05 4.33856258e-07]\n",
            " [1.63905681e-10 8.61939188e-05 1.02578120e-07 5.16383558e-09\n",
            "  9.99428570e-01 6.63099229e-08 3.36488593e-09 5.25341693e-06\n",
            "  1.14260074e-04 3.65510554e-04]\n",
            " [3.14834392e-06 2.32475736e-06 1.53823799e-04 2.04361913e-05\n",
            "  4.69154231e-02 1.20952427e-05 1.01537401e-08 2.84767884e-04\n",
            "  4.13484202e-04 9.52194393e-01]\n",
            " [6.99329539e-05 1.73359368e-07 5.67319839e-05 1.21606973e-07\n",
            "  6.43238382e-05 9.07426596e-01 7.93391392e-02 5.74843398e-06\n",
            "  1.22533720e-02 7.83825410e-04]]\n",
            "[7 2 1 0 4 1 4 9 5]\n"
          ],
          "name": "stdout"
        }
      ]
    },
    {
      "metadata": {
        "id": "CT--y98_dr2T",
        "colab_type": "code",
        "colab": {
          "base_uri": "https://localhost:8080/",
          "height": 17
        },
        "outputId": "3701f2b8-fd02-4a64-b5fb-300f62a8ebec"
      },
      "cell_type": "code",
      "source": [
        "layer_dict = dict([(layer.name, layer) for layer in model.layers])"
      ],
      "execution_count": 47,
      "outputs": []
    },
    {
      "metadata": {
        "id": "2GY4Upv4dsUR",
        "colab_type": "code",
        "colab": {}
      },
      "cell_type": "code",
      "source": [
        "#@title Default title text\n",
        "import numpy as np\n",
        "from matplotlib import pyplot as plt\n",
        "from keras import backend as K\n",
        "%matplotlib inline\n",
        "# util function to convert a tensor into a valid image\n",
        "def deprocess_image(x):\n",
        "    # normalize tensor: center on 0., ensure std is 0.1\n",
        "    x -= x.mean()\n",
        "    x /= (x.std() + 1e-5)\n",
        "    x *= 0.1\n",
        "\n",
        "    # clip to [0, 1]\n",
        "    x += 0.5\n",
        "    x = np.clip(x, 0, 1)\n",
        "\n",
        "    # convert to RGB array\n",
        "    x *= 255\n",
        "    #x = x.transpose((1, 2, 0))\n",
        "    x = np.clip(x, 0, 255).astype('uint8')\n",
        "    return x\n",
        "\n",
        "def vis_img_in_filter(img = np.array(X_train[2]).reshape((1, 28, 28, 1)).astype(np.float64), \n",
        "                      layer_name = 'conv2d_7'):\n",
        "    layer_output = layer_dict[layer_name].output\n",
        "    img_ascs = list()\n",
        "    for filter_index in range(layer_output.shape[3]):\n",
        "        # build a loss function that maximizes the activation\n",
        "        # of the nth filter of the layer considered\n",
        "        loss = K.mean(layer_output[:, :, :, filter_index])\n",
        "\n",
        "        # compute the gradient of the input picture wrt this loss\n",
        "        grads = K.gradients(loss, model.input)[0]\n",
        "\n",
        "        # normalization trick: we normalize the gradient\n",
        "        grads /= (K.sqrt(K.mean(K.square(grads))) + 1e-5)\n",
        "\n",
        "        # this function returns the loss and grads given the input picture\n",
        "        iterate = K.function([model.input], [loss, grads])\n",
        "\n",
        "        # step size for gradient ascent\n",
        "        step = 5.\n",
        "\n",
        "        img_asc = np.array(img)\n",
        "        # run gradient ascent for 20 steps\n",
        "        for i in range(20):\n",
        "            loss_value, grads_value = iterate([img_asc])\n",
        "            img_asc += grads_value * step\n",
        "\n",
        "        img_asc = img_asc[0]\n",
        "        img_ascs.append(deprocess_image(img_asc).reshape((28, 28)))\n",
        "        \n",
        "    if layer_output.shape[3] >= 35:\n",
        "        plot_x, plot_y = 6, 6\n",
        "    elif layer_output.shape[3] >= 23:\n",
        "        plot_x, plot_y = 4, 6\n",
        "    elif layer_output.shape[3] >= 11:\n",
        "        plot_x, plot_y = 2, 6\n",
        "    else:\n",
        "        plot_x, plot_y = 1, 2\n",
        "    fig, ax = plt.subplots(plot_x, plot_y, figsize = (12, 12))\n",
        "    ax[0, 0].imshow(img.reshape((28, 28)), cmap = 'gray')\n",
        "    ax[0, 0].set_title('Input image')\n",
        "    print('Input image and %s filters' % (layer_name,))\n",
        "    fig.suptitle('Input image and %s filters' % (layer_name,))\n",
        "    fig.tight_layout(pad = 0.3, rect = [0, 0, 0.9, 0.9])\n",
        "    for (x, y) in [(i, j) for i in range(plot_x) for j in range(plot_y)]:\n",
        "        if x == 0 and y == 0:\n",
        "            continue\n",
        "        ax[x, y].imshow(img_ascs[x * plot_y + y - 1], cmap = 'gray')\n",
        "        ax[x, y].set_title('filter %d' % (x * plot_y + y - 1))\n",
        "\n",
        "vis_img_in_filter()"
      ],
      "execution_count": 0,
      "outputs": []
    }
  ]
}